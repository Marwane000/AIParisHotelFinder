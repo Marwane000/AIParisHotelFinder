{
 "cells": [
  {
   "cell_type": "code",
   "execution_count": 1,
   "metadata": {},
   "outputs": [
    {
     "name": "stderr",
     "output_type": "stream",
     "text": [
      "C:\\Users\\Bouayad\\AppData\\Local\\Packages\\PythonSoftwareFoundation.Python.3.11_qbz5n2kfra8p0\\LocalCache\\local-packages\\Python311\\site-packages\\tqdm\\auto.py:21: TqdmWarning: IProgress not found. Please update jupyter and ipywidgets. See https://ipywidgets.readthedocs.io/en/stable/user_install.html\n",
      "  from .autonotebook import tqdm as notebook_tqdm\n"
     ]
    }
   ],
   "source": [
    "import locale\n",
    "import json\n",
    "import pandas as pd\n",
    "import time\n",
    "import spacy\n",
    "from spacy.lang.en.stop_words import STOP_WORDS\n",
    "from string import punctuation\n",
    "from collections import Counter\n",
    "from heapq import nlargest\n",
    "import nltk\n",
    "import numpy as np\n",
    "from tqdm import tqdm\n",
    "from sentence_transformers import SentenceTransformer, util\n",
    "# import tiktoken\n",
    "from openai.embeddings_utils import get_embedding, cosine_similarity\n",
    "import pandas as pd"
   ]
  },
  {
   "cell_type": "code",
   "execution_count": 2,
   "metadata": {},
   "outputs": [],
   "source": [
    "df = pd.read_csv('https://raw.githubusercontent.com/hamzafarooq/maven-mlsystem-design-cohort-1/main/data/paris_02_11_23.csv')"
   ]
  },
  {
   "cell_type": "code",
   "execution_count": 5,
   "metadata": {},
   "outputs": [
    {
     "name": "stderr",
     "output_type": "stream",
     "text": [
      "Done! Use 'show' commands to display/save.   |██████████| [100%]   00:00 -> (00:00 left)\n"
     ]
    },
    {
     "name": "stdout",
     "output_type": "stream",
     "text": [
      "Report report.html was generated! NOTEBOOK/COLAB USERS: the web browser MAY not pop up, regardless, the report IS saved in your notebook/colab files.\n"
     ]
    }
   ],
   "source": [
    "import sweetviz as sv\n",
    "\n",
    "report = sv.analyze(df)\n",
    "report.show_html('report.html')\n"
   ]
  },
  {
   "cell_type": "code",
   "execution_count": 6,
   "metadata": {},
   "outputs": [
    {
     "data": {
      "text/html": [
       "<div>\n",
       "<style scoped>\n",
       "    .dataframe tbody tr th:only-of-type {\n",
       "        vertical-align: middle;\n",
       "    }\n",
       "\n",
       "    .dataframe tbody tr th {\n",
       "        vertical-align: top;\n",
       "    }\n",
       "\n",
       "    .dataframe thead th {\n",
       "        text-align: right;\n",
       "    }\n",
       "</style>\n",
       "<table border=\"1\" class=\"dataframe\">\n",
       "  <thead>\n",
       "    <tr style=\"text-align: right;\">\n",
       "      <th></th>\n",
       "      <th>review_id</th>\n",
       "      <th>date</th>\n",
       "      <th>review_rating</th>\n",
       "      <th>title</th>\n",
       "      <th>text</th>\n",
       "      <th>votes</th>\n",
       "      <th>url</th>\n",
       "      <th>language</th>\n",
       "      <th>platform</th>\n",
       "      <th>author_id</th>\n",
       "      <th>author_name</th>\n",
       "      <th>author_username</th>\n",
       "      <th>name</th>\n",
       "      <th>id</th>\n",
       "      <th>description</th>\n",
       "      <th>rating</th>\n",
       "      <th>rating_count</th>\n",
       "      <th>features</th>\n",
       "    </tr>\n",
       "  </thead>\n",
       "  <tbody>\n",
       "    <tr>\n",
       "      <th>0</th>\n",
       "      <td>864290614</td>\n",
       "      <td>2022-10-12</td>\n",
       "      <td>1</td>\n",
       "      <td>A large impersonal place with an on time check...</td>\n",
       "      <td>If you are looking for a huge, grand hotel exp...</td>\n",
       "      <td>1</td>\n",
       "      <td>/ShowUserReviews-g187147-d207742-r864290614-In...</td>\n",
       "      <td>en</td>\n",
       "      <td>MOBILE</td>\n",
       "      <td>E488EBBA1F82F16BF878FE274C735941</td>\n",
       "      <td>Anna J</td>\n",
       "      <td>AnnaJ250</td>\n",
       "      <td>InterContinental Paris - Le Grand</td>\n",
       "      <td>207742</td>\n",
       "      <td>The InterContinental Paris Le Grand, opened du...</td>\n",
       "      <td>4.5</td>\n",
       "      <td>3517.0</td>\n",
       "      <td>['roomFeatures_air conditioning', 'roomFeature...</td>\n",
       "    </tr>\n",
       "    <tr>\n",
       "      <th>1</th>\n",
       "      <td>864049819</td>\n",
       "      <td>2022-10-10</td>\n",
       "      <td>4</td>\n",
       "      <td>Good hotel with rude waiter</td>\n",
       "      <td>We went to this hotel just this month\\nWe have...</td>\n",
       "      <td>1</td>\n",
       "      <td>/ShowUserReviews-g187147-d207742-r864049819-In...</td>\n",
       "      <td>en</td>\n",
       "      <td>MOBILE</td>\n",
       "      <td>4A830AD8B128F60AC02E83D6B6A530F7</td>\n",
       "      <td>QATAR2007</td>\n",
       "      <td>QATAR2007</td>\n",
       "      <td>InterContinental Paris - Le Grand</td>\n",
       "      <td>207742</td>\n",
       "      <td>The InterContinental Paris Le Grand, opened du...</td>\n",
       "      <td>4.5</td>\n",
       "      <td>3517.0</td>\n",
       "      <td>['roomFeatures_air conditioning', 'roomFeature...</td>\n",
       "    </tr>\n",
       "    <tr>\n",
       "      <th>2</th>\n",
       "      <td>863952022</td>\n",
       "      <td>2022-10-10</td>\n",
       "      <td>5</td>\n",
       "      <td>Fantastic</td>\n",
       "      <td>Absolutely top-notch. Room, service, bed, pill...</td>\n",
       "      <td>0</td>\n",
       "      <td>/ShowUserReviews-g187147-d207742-r863952022-In...</td>\n",
       "      <td>en</td>\n",
       "      <td>OTHER</td>\n",
       "      <td>AA2958C3E083861E81EEC085671BAA5B</td>\n",
       "      <td>aji1376</td>\n",
       "      <td>aji1376</td>\n",
       "      <td>InterContinental Paris - Le Grand</td>\n",
       "      <td>207742</td>\n",
       "      <td>The InterContinental Paris Le Grand, opened du...</td>\n",
       "      <td>4.5</td>\n",
       "      <td>3517.0</td>\n",
       "      <td>['roomFeatures_air conditioning', 'roomFeature...</td>\n",
       "    </tr>\n",
       "    <tr>\n",
       "      <th>3</th>\n",
       "      <td>863793066</td>\n",
       "      <td>2022-10-09</td>\n",
       "      <td>4</td>\n",
       "      <td>Amidst the chaos of Fashion week, their servic...</td>\n",
       "      <td>We stayed during the Paris Fashion Week Chaos....</td>\n",
       "      <td>0</td>\n",
       "      <td>/ShowUserReviews-g187147-d207742-r863793066-In...</td>\n",
       "      <td>en</td>\n",
       "      <td>MOBILE</td>\n",
       "      <td>DE4AB96DA3E104846D6D6423C2DAA4C8</td>\n",
       "      <td>jelinc2016</td>\n",
       "      <td>jelinc2016</td>\n",
       "      <td>InterContinental Paris - Le Grand</td>\n",
       "      <td>207742</td>\n",
       "      <td>The InterContinental Paris Le Grand, opened du...</td>\n",
       "      <td>4.5</td>\n",
       "      <td>3517.0</td>\n",
       "      <td>['roomFeatures_air conditioning', 'roomFeature...</td>\n",
       "    </tr>\n",
       "    <tr>\n",
       "      <th>4</th>\n",
       "      <td>863631994</td>\n",
       "      <td>2022-10-08</td>\n",
       "      <td>2</td>\n",
       "      <td>Not worth the effort or money</td>\n",
       "      <td>This hotel is not worth the effort or the pric...</td>\n",
       "      <td>0</td>\n",
       "      <td>/ShowUserReviews-g187147-d207742-r863631994-In...</td>\n",
       "      <td>en</td>\n",
       "      <td>MOBILE</td>\n",
       "      <td>DE02D713F209AEC684DC6108509E6912</td>\n",
       "      <td>VikaasK</td>\n",
       "      <td>VikaasK</td>\n",
       "      <td>InterContinental Paris - Le Grand</td>\n",
       "      <td>207742</td>\n",
       "      <td>The InterContinental Paris Le Grand, opened du...</td>\n",
       "      <td>4.5</td>\n",
       "      <td>3517.0</td>\n",
       "      <td>['roomFeatures_air conditioning', 'roomFeature...</td>\n",
       "    </tr>\n",
       "  </tbody>\n",
       "</table>\n",
       "</div>"
      ],
      "text/plain": [
       "   review_id        date  review_rating  \\\n",
       "0  864290614  2022-10-12              1   \n",
       "1  864049819  2022-10-10              4   \n",
       "2  863952022  2022-10-10              5   \n",
       "3  863793066  2022-10-09              4   \n",
       "4  863631994  2022-10-08              2   \n",
       "\n",
       "                                               title  \\\n",
       "0  A large impersonal place with an on time check...   \n",
       "1                        Good hotel with rude waiter   \n",
       "2                                          Fantastic   \n",
       "3  Amidst the chaos of Fashion week, their servic...   \n",
       "4                      Not worth the effort or money   \n",
       "\n",
       "                                                text  votes  \\\n",
       "0  If you are looking for a huge, grand hotel exp...      1   \n",
       "1  We went to this hotel just this month\\nWe have...      1   \n",
       "2  Absolutely top-notch. Room, service, bed, pill...      0   \n",
       "3  We stayed during the Paris Fashion Week Chaos....      0   \n",
       "4  This hotel is not worth the effort or the pric...      0   \n",
       "\n",
       "                                                 url language platform  \\\n",
       "0  /ShowUserReviews-g187147-d207742-r864290614-In...       en   MOBILE   \n",
       "1  /ShowUserReviews-g187147-d207742-r864049819-In...       en   MOBILE   \n",
       "2  /ShowUserReviews-g187147-d207742-r863952022-In...       en    OTHER   \n",
       "3  /ShowUserReviews-g187147-d207742-r863793066-In...       en   MOBILE   \n",
       "4  /ShowUserReviews-g187147-d207742-r863631994-In...       en   MOBILE   \n",
       "\n",
       "                          author_id author_name author_username  \\\n",
       "0  E488EBBA1F82F16BF878FE274C735941      Anna J        AnnaJ250   \n",
       "1  4A830AD8B128F60AC02E83D6B6A530F7   QATAR2007       QATAR2007   \n",
       "2  AA2958C3E083861E81EEC085671BAA5B     aji1376         aji1376   \n",
       "3  DE4AB96DA3E104846D6D6423C2DAA4C8  jelinc2016      jelinc2016   \n",
       "4  DE02D713F209AEC684DC6108509E6912     VikaasK         VikaasK   \n",
       "\n",
       "                                name      id  \\\n",
       "0  InterContinental Paris - Le Grand  207742   \n",
       "1  InterContinental Paris - Le Grand  207742   \n",
       "2  InterContinental Paris - Le Grand  207742   \n",
       "3  InterContinental Paris - Le Grand  207742   \n",
       "4  InterContinental Paris - Le Grand  207742   \n",
       "\n",
       "                                         description  rating  rating_count  \\\n",
       "0  The InterContinental Paris Le Grand, opened du...     4.5        3517.0   \n",
       "1  The InterContinental Paris Le Grand, opened du...     4.5        3517.0   \n",
       "2  The InterContinental Paris Le Grand, opened du...     4.5        3517.0   \n",
       "3  The InterContinental Paris Le Grand, opened du...     4.5        3517.0   \n",
       "4  The InterContinental Paris Le Grand, opened du...     4.5        3517.0   \n",
       "\n",
       "                                            features  \n",
       "0  ['roomFeatures_air conditioning', 'roomFeature...  \n",
       "1  ['roomFeatures_air conditioning', 'roomFeature...  \n",
       "2  ['roomFeatures_air conditioning', 'roomFeature...  \n",
       "3  ['roomFeatures_air conditioning', 'roomFeature...  \n",
       "4  ['roomFeatures_air conditioning', 'roomFeature...  "
      ]
     },
     "execution_count": 6,
     "metadata": {},
     "output_type": "execute_result"
    }
   ],
   "source": [
    "df.head()"
   ]
  },
  {
   "cell_type": "code",
   "execution_count": 7,
   "metadata": {},
   "outputs": [
    {
     "data": {
      "text/plain": [
       "language\n",
       "en    1.0\n",
       "Name: proportion, dtype: float64"
      ]
     },
     "execution_count": 7,
     "metadata": {},
     "output_type": "execute_result"
    }
   ],
   "source": [
    "#afficher les values uniques de la colonne 'language' et la fréquence (en pourcentage) de chaque valeur\n",
    "df['language'].value_counts(normalize=True)"
   ]
  },
  {
   "cell_type": "code",
   "execution_count": 9,
   "metadata": {},
   "outputs": [
    {
     "data": {
      "text/plain": [
       "Index(['review_id', 'date', 'review_rating', 'title', 'text', 'votes', 'url',\n",
       "       'language', 'platform', 'author_id', 'author_name', 'author_username',\n",
       "       'name', 'id', 'description', 'rating', 'rating_count', 'features'],\n",
       "      dtype='object')"
      ]
     },
     "execution_count": 9,
     "metadata": {},
     "output_type": "execute_result"
    }
   ],
   "source": [
    "#Lister les colonnes du dataframe\n",
    "df.columns"
   ]
  },
  {
   "cell_type": "code",
   "execution_count": 11,
   "metadata": {},
   "outputs": [
    {
     "data": {
      "text/plain": [
       "platform\n",
       "OTHER     0.669060\n",
       "MOBILE    0.330592\n",
       "TABLET    0.000349\n",
       "Name: proportion, dtype: float64"
      ]
     },
     "execution_count": 11,
     "metadata": {},
     "output_type": "execute_result"
    }
   ],
   "source": [
    "#les valeurs de la colonne plateform\n",
    "df['platform'].value_counts(normalize=True)"
   ]
  },
  {
   "cell_type": "code",
   "execution_count": 13,
   "metadata": {},
   "outputs": [],
   "source": [
    "#afficher les valeurs de la colonne features des 10 premières hotels (sur la base de la colonne 'id')\n",
    "df['features'].head(10)"
   ]
  },
  {
   "cell_type": "code",
   "execution_count": 15,
   "metadata": {},
   "outputs": [
    {
     "data": {
      "text/plain": [
       "review_id            int64\n",
       "date                object\n",
       "review_rating        int64\n",
       "title               object\n",
       "text                object\n",
       "votes                int64\n",
       "url                 object\n",
       "language            object\n",
       "platform            object\n",
       "author_id           object\n",
       "author_name         object\n",
       "author_username     object\n",
       "name                object\n",
       "id                   int64\n",
       "description         object\n",
       "rating             float64\n",
       "rating_count       float64\n",
       "features            object\n",
       "dtype: object"
      ]
     },
     "execution_count": 15,
     "metadata": {},
     "output_type": "execute_result"
    }
   ],
   "source": [
    "#pour chaque colonne affiche son type \n",
    "df.dtypes"
   ]
  },
  {
   "cell_type": "code",
   "execution_count": 16,
   "metadata": {},
   "outputs": [],
   "source": [
    "#convertir la colonne 'date' en type datetime\n",
    "df['date'] = pd.to_datetime(df['date'])\n"
   ]
  },
  {
   "cell_type": "code",
   "execution_count": 17,
   "metadata": {},
   "outputs": [],
   "source": [
    "#convertir la colonne rating en type float\n",
    "df['rating'] = df['rating'].astype(float)"
   ]
  },
  {
   "cell_type": "code",
   "execution_count": 19,
   "metadata": {},
   "outputs": [],
   "source": [
    "#créer une liste avec les colonnes à supprimer (url, language, platform, author_id, author_name, author_username) et créer une fonction qui supprime les colonne mentionnées dans la liste\n",
    "to_drop = ['url', 'language', 'platform', 'author_id', 'author_name', 'author_username']\n",
    "def drop_cols(df, cols):\n",
    "    df.drop(columns=cols, inplace=True)\n",
    "drop_cols(df, to_drop)"
   ]
  },
  {
   "cell_type": "code",
   "execution_count": 23,
   "metadata": {},
   "outputs": [
    {
     "data": {
      "text/plain": [
       "16704"
      ]
     },
     "execution_count": 23,
     "metadata": {},
     "output_type": "execute_result"
    }
   ],
   "source": [
    "#nombre de doublons sur la base de la colonne 'review_id'\n",
    "df.duplicated(subset=['review_id']).sum()\n",
    "\n",
    "\n",
    "\n"
   ]
  },
  {
   "cell_type": "code",
   "execution_count": 26,
   "metadata": {},
   "outputs": [],
   "source": [
    "#supprimer les doublons sur la base de la colonne 'review_id'\n",
    "df.drop_duplicates(subset=['review_id'], inplace=True)"
   ]
  }
 ],
 "metadata": {
  "kernelspec": {
   "display_name": "Python 3",
   "language": "python",
   "name": "python3"
  },
  "language_info": {
   "codemirror_mode": {
    "name": "ipython",
    "version": 3
   },
   "file_extension": ".py",
   "mimetype": "text/x-python",
   "name": "python",
   "nbconvert_exporter": "python",
   "pygments_lexer": "ipython3",
   "version": "3.11.5"
  },
  "orig_nbformat": 4
 },
 "nbformat": 4,
 "nbformat_minor": 2
}
